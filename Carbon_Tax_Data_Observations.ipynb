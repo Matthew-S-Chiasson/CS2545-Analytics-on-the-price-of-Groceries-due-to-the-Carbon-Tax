{
 "cells": [
  {
   "cell_type": "markdown",
   "id": "63fa3ade",
   "metadata": {},
   "source": [
    "# Carbon Tax Observations\n",
    "\n",
    "### CS2545 - Data Science ###\n",
    "### Winter, 2025 ###\n",
    "### UNB, Fredericton ###\n",
    "<br>\n",
    "\n",
    "#### Group Members \n",
    "\n",
    "Chi Seng, Cheang | 3762588\n",
    "\n",
    "Riley, Legere | 3756232\n",
    "\n",
    "Matthew, Chiasson | 3725675\n",
    "\n",
    "\n",
    "\n",
    "#### Project Proposal :\n",
    "Economic activities and cost analysis in Canada\n",
    "(Analyzing grocery price trends)\n",
    "\n",
    "#### Issues addressed:  \n",
    "Concerns about rising grocery costs in Canada (Reasons/Causes) since the genesis of carbon Tax.\n",
    "Methodology: We will look at price trends in grocery costs throughout the year with a focus on the transition between first to second quarter (the tax season). Our approach will be mostly concerned with animal products that have a large carbon footprint. We are also interested in how the Carbon Tax affects other food products, say those that involve heavy transportation costs; Like Seafood. \n"
   ]
  },
  {
   "cell_type": "markdown",
   "id": "f57aac9e",
   "metadata": {},
   "source": [
    "# Sources:\n",
    "\n",
    "> [Industrial product price index, food and beverage products, monthly:](https://www150.statcan.gc.ca/t1/tbl1/en/tv.action?pid=1810026603)\n",
    "\n",
    "> [Raw materials price index for crop products, animals and animal products, monthly:](https://www150.statcan.gc.ca/t1/tbl1/en/tv.action?pid=181002680)\n",
    "\n",
    "> [Monthly average retail prices for selected products: Food](https://www150.statcan.gc.ca/t1/tbl1/en/tv.action?pid=1810024502)"
   ]
  },
  {
   "cell_type": "code",
   "execution_count": null,
   "id": "fbaa6251",
   "metadata": {
    "scrolled": true
   },
   "outputs": [],
   "source": [
    "# write your code below\n",
    "\n",
    "\n",
    "\n",
    "\n",
    "\n"
   ]
  }
 ],
 "metadata": {
  "kernelspec": {
   "display_name": "Python 3",
   "language": "python",
   "name": "python3"
  },
  "language_info": {
   "codemirror_mode": {
    "name": "ipython",
    "version": 3
   },
   "file_extension": ".py",
   "mimetype": "text/x-python",
   "name": "python",
   "nbconvert_exporter": "python",
   "pygments_lexer": "ipython3",
   "version": "3.8.8"
  }
 },
 "nbformat": 4,
 "nbformat_minor": 5
}
