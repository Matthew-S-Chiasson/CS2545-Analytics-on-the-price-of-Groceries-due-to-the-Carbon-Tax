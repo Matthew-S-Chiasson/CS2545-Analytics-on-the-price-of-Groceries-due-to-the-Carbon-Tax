{
 "cells": [
  {
   "cell_type": "markdown",
   "id": "63fa3ade",
   "metadata": {},
   "source": [
    "# Carbon Tax Observations\n",
    "\n",
    "### CS2545 - Data Science ###\n",
    "### Winter, 2025 ###\n",
    "### UNB, Fredericton ###\n",
    "<br>\n",
    "\n",
    "#### Group Members \n",
    "\n",
    "Chi Seng, Cheang | 3762588\n",
    "\n",
    "Riley, Legere | 3756232\n",
    "\n",
    "Matthew, Chiasson | 3725675\n",
    "\n",
    "\n",
    "\n",
    "#### Project Proposal :\n",
    "Economic activities and cost analysis in Canada\n",
    "(Analyzing grocery price trends)\n",
    "\n",
    "#### Issues addressed:  \n",
    "Concerns about rising grocery costs in Canada (Reasons/Causes) since the genesis of carbon Tax.\n",
    "Methodology: We will look at price trends in grocery costs throughout the year with a focus on the transition between first to second quarter (the tax season). Our approach will be mostly concerned with animal products that have a large carbon footprint. We are also interested in how the Carbon Tax affects other food products, say those that involve heavy transportation costs; Like Seafood. \n"
   ]
  },
  {
   "cell_type": "markdown",
   "id": "f57aac9e",
   "metadata": {},
   "source": [
    "# Data Set Sources:\n",
    "\n",
    "> [Industrial product price index, food and beverage products, monthly:](https://www150.statcan.gc.ca/t1/tbl1/en/tv.action?pid=1810026603)\n",
    "\n",
    "> [Raw materials price index for crop products, animals and animal products, monthly:](https://www150.statcan.gc.ca/t1/tbl1/en/tv.action?pid=181002680)\n",
    "\n",
    "> [Monthly average retail prices for selected products: Food](https://www150.statcan.gc.ca/t1/tbl1/en/tv.action?pid=1810024502)"
   ]
  },
  {
   "cell_type": "markdown",
   "id": "fc5c39df",
   "metadata": {},
   "source": [
    "Plan: \n",
    "source when carbon tax was implemented in 2016 and how much\n",
    "\n",
    "source how hard canadian farmers where impacted\n",
    "\n",
    "Source the base inflation rate over the years 2015 - 2019\n",
    "\n",
    "create dataframes for prices over the years 2015 - 2019\n",
    "\n",
    "find mean price increasce and mean inflation rate. subtract inflation from price increace.\n",
    "\n"
   ]
  },
  {
   "cell_type": "markdown",
   "id": "0017f63d",
   "metadata": {},
   "source": [
    "# Introduction\n",
    " Our project aims to analyze the price trends on grocery items and its root cause, with a heavy emphasis on the relevance of Carbon Tax onto the Canadian economy. We hypothesize that since the introduction of the Carbon Tax on a federal level in 2019 (some provinces have had Carbon Tax since 2016 [1]), grocery prices have been steadily rising due to fuel consumption and a rising population; Paired with the Covid-19 pandemic, prices of groceries have since been increased to new heights and have not been decreasing gradually as much as its causes have been increasing. \n",
    "\n",
    "## Base inflation rates\n",
    "\n",
    "\n",
    "(talk about seasonal production and despite how thats a thing other non-agricultural items still increased in price)"
   ]
  },
  {
   "cell_type": "code",
   "execution_count": null,
   "id": "72df57be",
   "metadata": {},
   "outputs": [],
   "source": [
    "#imports\n",
    "import pandas\n",
    "#so on and so forth\n"
   ]
  },
  {
   "cell_type": "markdown",
   "id": "2bb18fb3",
   "metadata": {},
   "source": [
    "# Sources:\n",
    "\n",
    "1. https://energynow.ca/2016/12/brief-history-canadian-carbon-tax/\n",
    "2. https://www.thecanadianencyclopedia.ca/en/article/carbon-pricing-in-canada"
   ]
  }
 ],
 "metadata": {
  "kernelspec": {
   "display_name": "Python 3",
   "language": "python",
   "name": "python3"
  },
  "language_info": {
   "codemirror_mode": {
    "name": "ipython",
    "version": 3
   },
   "file_extension": ".py",
   "mimetype": "text/x-python",
   "name": "python",
   "nbconvert_exporter": "python",
   "pygments_lexer": "ipython3",
   "version": "3.8.8"
  }
 },
 "nbformat": 4,
 "nbformat_minor": 5
}
